{
 "cells": [
  {
   "cell_type": "code",
   "execution_count": 1,
   "id": "hidden-slave",
   "metadata": {},
   "outputs": [],
   "source": [
    "import pandas as pd\n",
    "\n",
    "messages = pd.read_csv('boat_data.csv')"
   ]
  },
  {
   "cell_type": "code",
   "execution_count": 2,
   "id": "smaller-madonna",
   "metadata": {},
   "outputs": [
    {
     "data": {
      "text/plain": [
       "(5000, 13)"
      ]
     },
     "execution_count": 2,
     "metadata": {},
     "output_type": "execute_result"
    }
   ],
   "source": [
    "messages.shape"
   ]
  },
  {
   "cell_type": "code",
   "execution_count": 3,
   "id": "laughing-purse",
   "metadata": {},
   "outputs": [
    {
     "data": {
      "text/html": [
       "<div>\n",
       "<style scoped>\n",
       "    .dataframe tbody tr th:only-of-type {\n",
       "        vertical-align: middle;\n",
       "    }\n",
       "\n",
       "    .dataframe tbody tr th {\n",
       "        vertical-align: top;\n",
       "    }\n",
       "\n",
       "    .dataframe thead th {\n",
       "        text-align: right;\n",
       "    }\n",
       "</style>\n",
       "<table border=\"1\" class=\"dataframe\">\n",
       "  <thead>\n",
       "    <tr style=\"text-align: right;\">\n",
       "      <th></th>\n",
       "      <th>Unnamed: 0</th>\n",
       "      <th>ReviewTitle</th>\n",
       "      <th>ReviewBody</th>\n",
       "      <th>ReviewStar</th>\n",
       "      <th>Product</th>\n",
       "      <th>Negative</th>\n",
       "      <th>Neutral</th>\n",
       "      <th>Positive</th>\n",
       "      <th>Compound</th>\n",
       "      <th>Sentiment_Score</th>\n",
       "      <th>Keywords</th>\n",
       "      <th>Filter</th>\n",
       "      <th>LabeledWords</th>\n",
       "    </tr>\n",
       "  </thead>\n",
       "  <tbody>\n",
       "    <tr>\n",
       "      <th>0</th>\n",
       "      <td>0</td>\n",
       "      <td>Honest review of an edm music lover\\n</td>\n",
       "      <td>No Doubt It Has A Great Bass And To A Great Ex...</td>\n",
       "      <td>3</td>\n",
       "      <td>boAt Rockerz 255</td>\n",
       "      <td>0.268</td>\n",
       "      <td>0.657</td>\n",
       "      <td>0.075</td>\n",
       "      <td>-0.9580</td>\n",
       "      <td>Negative</td>\n",
       "      <td>['Doubt', 'Great', 'Than', 'Pain', 'Removed', ...</td>\n",
       "      <td>['No', 'Doubt', 'It', 'Has', 'A', 'Great', 'Ba...</td>\n",
       "      <td>[{'Negative': 'No'}, {'Negative': 'Doubt'}, {'...</td>\n",
       "    </tr>\n",
       "    <tr>\n",
       "      <th>1</th>\n",
       "      <td>1</td>\n",
       "      <td>Unreliable earphones with high cost\\n</td>\n",
       "      <td>This Earphones Are Unreliable, I Bought It Bef...</td>\n",
       "      <td>1</td>\n",
       "      <td>boAt Rockerz 255</td>\n",
       "      <td>0.073</td>\n",
       "      <td>0.884</td>\n",
       "      <td>0.043</td>\n",
       "      <td>-0.2528</td>\n",
       "      <td>Negative</td>\n",
       "      <td>['Earphones', 'Days', 'Right', 'Parts', 'Much'...</td>\n",
       "      <td>['This', 'Earphones', 'Are', 'Unreliable', ','...</td>\n",
       "      <td>[{'Neutral': 'This'}, {'Neutral': 'Earphones'}...</td>\n",
       "    </tr>\n",
       "    <tr>\n",
       "      <th>2</th>\n",
       "      <td>2</td>\n",
       "      <td>Really good and durable.\\n</td>\n",
       "      <td>I Bought Itfor 999,I Purchased It Second Time,...</td>\n",
       "      <td>4</td>\n",
       "      <td>boAt Rockerz 255</td>\n",
       "      <td>0.021</td>\n",
       "      <td>0.928</td>\n",
       "      <td>0.052</td>\n",
       "      <td>0.5569</td>\n",
       "      <td>Positive</td>\n",
       "      <td>['Second', 'Devices', 'Good', 'Used']</td>\n",
       "      <td>['I', 'Bought', 'Itfor', '999', ',', 'I', 'Pur...</td>\n",
       "      <td>[{'Neutral': 'I'}, {'Neutral': 'Bought'}, {'Ne...</td>\n",
       "    </tr>\n",
       "    <tr>\n",
       "      <th>3</th>\n",
       "      <td>3</td>\n",
       "      <td>stopped working in just 14 days\\n</td>\n",
       "      <td>Its Sound Quality Is Adorable. Overall It Was ...</td>\n",
       "      <td>1</td>\n",
       "      <td>boAt Rockerz 255</td>\n",
       "      <td>0.061</td>\n",
       "      <td>0.833</td>\n",
       "      <td>0.105</td>\n",
       "      <td>0.1779</td>\n",
       "      <td>Positive</td>\n",
       "      <td>['Overall', 'Good', 'Weeks']</td>\n",
       "      <td>['Its', 'Sound', 'Quality', 'Is', 'Adorable', ...</td>\n",
       "      <td>[{'Neutral': 'Its'}, {'Neutral': 'Sound'}, {'N...</td>\n",
       "    </tr>\n",
       "    <tr>\n",
       "      <th>4</th>\n",
       "      <td>4</td>\n",
       "      <td>Just Awesome Wireless Headphone under 1000...😉\\n</td>\n",
       "      <td>Its Awesome... Good Sound Quality &amp; 8-9 Hrs Ba...</td>\n",
       "      <td>5</td>\n",
       "      <td>boAt Rockerz 255</td>\n",
       "      <td>0.093</td>\n",
       "      <td>0.760</td>\n",
       "      <td>0.147</td>\n",
       "      <td>0.2831</td>\n",
       "      <td>Positive</td>\n",
       "      <td>['8-9', '😉', 'Rupees', 'Bad', 'Packaging', 'Pa...</td>\n",
       "      <td>['Its', 'Awesome', '...', 'Good', 'Sound', 'Qu...</td>\n",
       "      <td>[{'Neutral': 'Its'}, {'Positive': 'Awesome'}, ...</td>\n",
       "    </tr>\n",
       "    <tr>\n",
       "      <th>...</th>\n",
       "      <td>...</td>\n",
       "      <td>...</td>\n",
       "      <td>...</td>\n",
       "      <td>...</td>\n",
       "      <td>...</td>\n",
       "      <td>...</td>\n",
       "      <td>...</td>\n",
       "      <td>...</td>\n",
       "      <td>...</td>\n",
       "      <td>...</td>\n",
       "      <td>...</td>\n",
       "      <td>...</td>\n",
       "      <td>...</td>\n",
       "    </tr>\n",
       "    <tr>\n",
       "      <th>4995</th>\n",
       "      <td>4995</td>\n",
       "      <td>Good quality product\\n</td>\n",
       "      <td>Sound Quality Is Superb..Battery Life Is Good....</td>\n",
       "      <td>5</td>\n",
       "      <td>boAt Rockerz 255</td>\n",
       "      <td>0.000</td>\n",
       "      <td>1.000</td>\n",
       "      <td>0.000</td>\n",
       "      <td>0.0000</td>\n",
       "      <td>Neutral</td>\n",
       "      <td>['Sound']</td>\n",
       "      <td>['Sound', 'Quality', 'Is', 'Superb', '..', 'Ba...</td>\n",
       "      <td>[{'Neutral': 'Sound'}, {'Neutral': 'Quality'},...</td>\n",
       "    </tr>\n",
       "    <tr>\n",
       "      <th>4996</th>\n",
       "      <td>4996</td>\n",
       "      <td>Excellent product\\n</td>\n",
       "      <td>Nice Earphone........ Good Bt Connectivity. An...</td>\n",
       "      <td>5</td>\n",
       "      <td>boAt Rockerz 255</td>\n",
       "      <td>0.000</td>\n",
       "      <td>0.449</td>\n",
       "      <td>0.551</td>\n",
       "      <td>0.8225</td>\n",
       "      <td>Positive</td>\n",
       "      <td>[]</td>\n",
       "      <td>['Nice', 'Earphone', '........', 'Good', 'Bt',...</td>\n",
       "      <td>[{'Positive': 'Nice'}, {'Neutral': 'Earphone'}...</td>\n",
       "    </tr>\n",
       "    <tr>\n",
       "      <th>4997</th>\n",
       "      <td>4997</td>\n",
       "      <td>Stopped working in 2 months\\n</td>\n",
       "      <td>Stopped Working.... Sound Is Breaking. Pls Gui...</td>\n",
       "      <td>1</td>\n",
       "      <td>boAt Rockerz 255</td>\n",
       "      <td>0.180</td>\n",
       "      <td>0.717</td>\n",
       "      <td>0.104</td>\n",
       "      <td>-0.2406</td>\n",
       "      <td>Negative</td>\n",
       "      <td>[]</td>\n",
       "      <td>['Stopped', 'Working', '....', 'Sound', 'Is', ...</td>\n",
       "      <td>[{'Negative': 'Stopped'}, {'Neutral': 'Working...</td>\n",
       "    </tr>\n",
       "    <tr>\n",
       "      <th>4998</th>\n",
       "      <td>4998</td>\n",
       "      <td>Buy it!!!\\n</td>\n",
       "      <td>Awesome Product... Worth The Price And The Sou...</td>\n",
       "      <td>5</td>\n",
       "      <td>boAt Rockerz 255</td>\n",
       "      <td>0.000</td>\n",
       "      <td>0.479</td>\n",
       "      <td>0.521</td>\n",
       "      <td>0.8689</td>\n",
       "      <td>Positive</td>\n",
       "      <td>[]</td>\n",
       "      <td>['Awesome', 'Product', '...', 'Worth', 'The', ...</td>\n",
       "      <td>[{'Positive': 'Awesome'}, {'Neutral': 'Product...</td>\n",
       "    </tr>\n",
       "    <tr>\n",
       "      <th>4999</th>\n",
       "      <td>4999</td>\n",
       "      <td>Waste noise cancellation\\n</td>\n",
       "      <td>Noise Cancellation Is Too Poor I Ordered 2 Pai...</td>\n",
       "      <td>1</td>\n",
       "      <td>boAt Rockerz 255</td>\n",
       "      <td>0.392</td>\n",
       "      <td>0.608</td>\n",
       "      <td>0.000</td>\n",
       "      <td>-0.7003</td>\n",
       "      <td>Negative</td>\n",
       "      <td>NaN</td>\n",
       "      <td>NaN</td>\n",
       "      <td>NaN</td>\n",
       "    </tr>\n",
       "  </tbody>\n",
       "</table>\n",
       "<p>5000 rows × 13 columns</p>\n",
       "</div>"
      ],
      "text/plain": [
       "      Unnamed: 0                                       ReviewTitle  \\\n",
       "0              0             Honest review of an edm music lover\\n   \n",
       "1              1             Unreliable earphones with high cost\\n   \n",
       "2              2                        Really good and durable.\\n   \n",
       "3              3                 stopped working in just 14 days\\n   \n",
       "4              4  Just Awesome Wireless Headphone under 1000...😉\\n   \n",
       "...          ...                                               ...   \n",
       "4995        4995                            Good quality product\\n   \n",
       "4996        4996                               Excellent product\\n   \n",
       "4997        4997                     Stopped working in 2 months\\n   \n",
       "4998        4998                                       Buy it!!!\\n   \n",
       "4999        4999                        Waste noise cancellation\\n   \n",
       "\n",
       "                                             ReviewBody  ReviewStar  \\\n",
       "0     No Doubt It Has A Great Bass And To A Great Ex...           3   \n",
       "1     This Earphones Are Unreliable, I Bought It Bef...           1   \n",
       "2     I Bought Itfor 999,I Purchased It Second Time,...           4   \n",
       "3     Its Sound Quality Is Adorable. Overall It Was ...           1   \n",
       "4     Its Awesome... Good Sound Quality & 8-9 Hrs Ba...           5   \n",
       "...                                                 ...         ...   \n",
       "4995  Sound Quality Is Superb..Battery Life Is Good....           5   \n",
       "4996  Nice Earphone........ Good Bt Connectivity. An...           5   \n",
       "4997  Stopped Working.... Sound Is Breaking. Pls Gui...           1   \n",
       "4998  Awesome Product... Worth The Price And The Sou...           5   \n",
       "4999  Noise Cancellation Is Too Poor I Ordered 2 Pai...           1   \n",
       "\n",
       "               Product  Negative  Neutral  Positive  Compound Sentiment_Score  \\\n",
       "0     boAt Rockerz 255     0.268    0.657     0.075   -0.9580        Negative   \n",
       "1     boAt Rockerz 255     0.073    0.884     0.043   -0.2528        Negative   \n",
       "2     boAt Rockerz 255     0.021    0.928     0.052    0.5569        Positive   \n",
       "3     boAt Rockerz 255     0.061    0.833     0.105    0.1779        Positive   \n",
       "4     boAt Rockerz 255     0.093    0.760     0.147    0.2831        Positive   \n",
       "...                ...       ...      ...       ...       ...             ...   \n",
       "4995  boAt Rockerz 255     0.000    1.000     0.000    0.0000         Neutral   \n",
       "4996  boAt Rockerz 255     0.000    0.449     0.551    0.8225        Positive   \n",
       "4997  boAt Rockerz 255     0.180    0.717     0.104   -0.2406        Negative   \n",
       "4998  boAt Rockerz 255     0.000    0.479     0.521    0.8689        Positive   \n",
       "4999  boAt Rockerz 255     0.392    0.608     0.000   -0.7003        Negative   \n",
       "\n",
       "                                               Keywords  \\\n",
       "0     ['Doubt', 'Great', 'Than', 'Pain', 'Removed', ...   \n",
       "1     ['Earphones', 'Days', 'Right', 'Parts', 'Much'...   \n",
       "2                 ['Second', 'Devices', 'Good', 'Used']   \n",
       "3                          ['Overall', 'Good', 'Weeks']   \n",
       "4     ['8-9', '😉', 'Rupees', 'Bad', 'Packaging', 'Pa...   \n",
       "...                                                 ...   \n",
       "4995                                          ['Sound']   \n",
       "4996                                                 []   \n",
       "4997                                                 []   \n",
       "4998                                                 []   \n",
       "4999                                                NaN   \n",
       "\n",
       "                                                 Filter  \\\n",
       "0     ['No', 'Doubt', 'It', 'Has', 'A', 'Great', 'Ba...   \n",
       "1     ['This', 'Earphones', 'Are', 'Unreliable', ','...   \n",
       "2     ['I', 'Bought', 'Itfor', '999', ',', 'I', 'Pur...   \n",
       "3     ['Its', 'Sound', 'Quality', 'Is', 'Adorable', ...   \n",
       "4     ['Its', 'Awesome', '...', 'Good', 'Sound', 'Qu...   \n",
       "...                                                 ...   \n",
       "4995  ['Sound', 'Quality', 'Is', 'Superb', '..', 'Ba...   \n",
       "4996  ['Nice', 'Earphone', '........', 'Good', 'Bt',...   \n",
       "4997  ['Stopped', 'Working', '....', 'Sound', 'Is', ...   \n",
       "4998  ['Awesome', 'Product', '...', 'Worth', 'The', ...   \n",
       "4999                                                NaN   \n",
       "\n",
       "                                           LabeledWords  \n",
       "0     [{'Negative': 'No'}, {'Negative': 'Doubt'}, {'...  \n",
       "1     [{'Neutral': 'This'}, {'Neutral': 'Earphones'}...  \n",
       "2     [{'Neutral': 'I'}, {'Neutral': 'Bought'}, {'Ne...  \n",
       "3     [{'Neutral': 'Its'}, {'Neutral': 'Sound'}, {'N...  \n",
       "4     [{'Neutral': 'Its'}, {'Positive': 'Awesome'}, ...  \n",
       "...                                                 ...  \n",
       "4995  [{'Neutral': 'Sound'}, {'Neutral': 'Quality'},...  \n",
       "4996  [{'Positive': 'Nice'}, {'Neutral': 'Earphone'}...  \n",
       "4997  [{'Negative': 'Stopped'}, {'Neutral': 'Working...  \n",
       "4998  [{'Positive': 'Awesome'}, {'Neutral': 'Product...  \n",
       "4999                                                NaN  \n",
       "\n",
       "[5000 rows x 13 columns]"
      ]
     },
     "execution_count": 3,
     "metadata": {},
     "output_type": "execute_result"
    }
   ],
   "source": [
    "messages"
   ]
  },
  {
   "cell_type": "code",
   "execution_count": 4,
   "id": "combined-superior",
   "metadata": {},
   "outputs": [
    {
     "data": {
      "text/plain": [
       "'Noise Cancellation Is Too Poor I Ordered 2 Pairs Both Have Same Problem.'"
      ]
     },
     "execution_count": 4,
     "metadata": {},
     "output_type": "execute_result"
    }
   ],
   "source": [
    "messages.iloc[4999, 2]"
   ]
  },
  {
   "cell_type": "code",
   "execution_count": 5,
   "id": "joined-queensland",
   "metadata": {},
   "outputs": [],
   "source": [
    "from nltk.corpus import stopwords\n",
    "from nltk.stem import WordNetLemmatizer\n",
    "import re\n",
    "\n",
    "lemmatizer = WordNetLemmatizer()\n",
    "def CleanString(x):\n",
    "    corpus = []\n",
    "    for i in range(0, len(x)):\n",
    "        review = re.sub('[^a-zA-Z]', ' ', str(x.ReviewBody[i]))\n",
    "        review = review.split()\n",
    "        review = [lemmatizer.lemmatize(word) for word in review if not word in set(stopwords.words('english'))]\n",
    "        review = ' '.join(review)\n",
    "        corpus.append(review)\n",
    "    x[\"ReviewBody\"]=corpus"
   ]
  },
  {
   "cell_type": "code",
   "execution_count": 6,
   "id": "cloudy-print",
   "metadata": {},
   "outputs": [],
   "source": [
    "CleanString(messages)"
   ]
  },
  {
   "cell_type": "code",
   "execution_count": 7,
   "id": "afraid-comparison",
   "metadata": {},
   "outputs": [],
   "source": [
    "from sklearn.model_selection import train_test_split\n",
    "message_train,message_test=train_test_split(messages[['Sentiment_Score','ReviewBody']])"
   ]
  },
  {
   "cell_type": "code",
   "execution_count": 8,
   "id": "proper-russell",
   "metadata": {},
   "outputs": [
    {
     "data": {
      "text/html": [
       "<div>\n",
       "<style scoped>\n",
       "    .dataframe tbody tr th:only-of-type {\n",
       "        vertical-align: middle;\n",
       "    }\n",
       "\n",
       "    .dataframe tbody tr th {\n",
       "        vertical-align: top;\n",
       "    }\n",
       "\n",
       "    .dataframe thead th {\n",
       "        text-align: right;\n",
       "    }\n",
       "</style>\n",
       "<table border=\"1\" class=\"dataframe\">\n",
       "  <thead>\n",
       "    <tr style=\"text-align: right;\">\n",
       "      <th></th>\n",
       "      <th>Sentiment_Score</th>\n",
       "      <th>ReviewBody</th>\n",
       "    </tr>\n",
       "  </thead>\n",
       "  <tbody>\n",
       "    <tr>\n",
       "      <th>1195</th>\n",
       "      <td>Negative</td>\n",
       "      <td>Sound Quality Is Good But The Bluetooth Gets D...</td>\n",
       "    </tr>\n",
       "    <tr>\n",
       "      <th>281</th>\n",
       "      <td>Positive</td>\n",
       "      <td>Go For The Headphones Blindly If You Are Getti...</td>\n",
       "    </tr>\n",
       "    <tr>\n",
       "      <th>2172</th>\n",
       "      <td>Positive</td>\n",
       "      <td>It Stopped Working In One Ear And The Customer...</td>\n",
       "    </tr>\n",
       "    <tr>\n",
       "      <th>2108</th>\n",
       "      <td>Negative</td>\n",
       "      <td>Never Buy This Product Battery Backup Is Toooo...</td>\n",
       "    </tr>\n",
       "    <tr>\n",
       "      <th>1431</th>\n",
       "      <td>Negative</td>\n",
       "      <td>All Gud Worth One But Not For Calls Seems Like...</td>\n",
       "    </tr>\n",
       "    <tr>\n",
       "      <th>...</th>\n",
       "      <td>...</td>\n",
       "      <td>...</td>\n",
       "    </tr>\n",
       "    <tr>\n",
       "      <th>2757</th>\n",
       "      <td>Positive</td>\n",
       "      <td>The Product Is Really Very Good But Noise Canc...</td>\n",
       "    </tr>\n",
       "    <tr>\n",
       "      <th>1776</th>\n",
       "      <td>Negative</td>\n",
       "      <td>I Have Received The Parcel But Product Is Miss...</td>\n",
       "    </tr>\n",
       "    <tr>\n",
       "      <th>3559</th>\n",
       "      <td>Positive</td>\n",
       "      <td>Main Thing I Like Is The Clear Audible Boombas...</td>\n",
       "    </tr>\n",
       "    <tr>\n",
       "      <th>233</th>\n",
       "      <td>Negative</td>\n",
       "      <td>Absolutely Poor Quality Sound Very Low Volume ...</td>\n",
       "    </tr>\n",
       "    <tr>\n",
       "      <th>3921</th>\n",
       "      <td>Neutral</td>\n",
       "      <td>Ear Hooks May Be Provided Extra</td>\n",
       "    </tr>\n",
       "  </tbody>\n",
       "</table>\n",
       "<p>3750 rows × 2 columns</p>\n",
       "</div>"
      ],
      "text/plain": [
       "     Sentiment_Score                                         ReviewBody\n",
       "1195        Negative  Sound Quality Is Good But The Bluetooth Gets D...\n",
       "281         Positive  Go For The Headphones Blindly If You Are Getti...\n",
       "2172        Positive  It Stopped Working In One Ear And The Customer...\n",
       "2108        Negative  Never Buy This Product Battery Backup Is Toooo...\n",
       "1431        Negative  All Gud Worth One But Not For Calls Seems Like...\n",
       "...              ...                                                ...\n",
       "2757        Positive  The Product Is Really Very Good But Noise Canc...\n",
       "1776        Negative  I Have Received The Parcel But Product Is Miss...\n",
       "3559        Positive  Main Thing I Like Is The Clear Audible Boombas...\n",
       "233         Negative  Absolutely Poor Quality Sound Very Low Volume ...\n",
       "3921         Neutral                    Ear Hooks May Be Provided Extra\n",
       "\n",
       "[3750 rows x 2 columns]"
      ]
     },
     "execution_count": 8,
     "metadata": {},
     "output_type": "execute_result"
    }
   ],
   "source": [
    "message_train"
   ]
  },
  {
   "cell_type": "code",
   "execution_count": 9,
   "id": "medieval-comment",
   "metadata": {},
   "outputs": [],
   "source": [
    "# Convert dataframe to list of tuples\n",
    "messages_train = message_train.to_records(index=False)\n",
    "messages_test=message_test.to_records(index=False)"
   ]
  },
  {
   "cell_type": "code",
   "execution_count": 10,
   "id": "august-thinking",
   "metadata": {},
   "outputs": [
    {
     "data": {
      "text/plain": [
       "rec.array([('Negative', 'Sound Quality Is Good But The Bluetooth Gets Dropped Again And Again After Just Months Of Purchase It Is Irritating I Do Not Recommend This Product I Want Replacement'),\n",
       "           ('Positive', 'Go For The Headphones Blindly If You Are Getting It Below Such A Awesome Sound Quality Had Been Using It For Almost Months And They Are Awesome I Tell You Best Part It Is Not Like Most Of The Bass Earphones Who Sound Is Not Bearable Just A Con When Connected To Two Devices Say You Are Listening To Music From Computer And Suddenly Receive A Call From Phone Then The Voice Is Bit Shaky Also The Range Is Too Good For A Earphone Like This Best One From Boats'),\n",
       "           ('Positive', 'It Stopped Working In One Ear And The Customer Care Is Non Responsive'),\n",
       "           ...,\n",
       "           ('Positive', 'Main Thing I Like Is The Clear Audible Boombastic Bass'),\n",
       "           ('Negative', 'Absolutely Poor Quality Sound Very Low Volume Lousy Bass I Would Have Even Ignored The Sound But For The Fact That The Earphones Just Don T Fit Properly Even With All The Options Given These Are Only Suitable For Walking At A Leisurely Pace For Those Who Are On A Very Tight Budget Not Recommended For Running Or Jogging As The Earbuds Will Keep Popping Out I Returned The Originals Once Thinking I Had A Defective Piece But The Replacement Too Had The Same Issue Spend A Little More And Buy Something Better'),\n",
       "           ('Neutral', 'Ear Hooks May Be Provided Extra')],\n",
       "          dtype=[('Sentiment_Score', 'O'), ('ReviewBody', 'O')])"
      ]
     },
     "execution_count": 10,
     "metadata": {},
     "output_type": "execute_result"
    }
   ],
   "source": [
    "messages_train"
   ]
  },
  {
   "cell_type": "code",
   "execution_count": 11,
   "id": "marine-premium",
   "metadata": {},
   "outputs": [],
   "source": [
    "# Creating the pipeline\n",
    "# 1st function is creating the TFIDF\n",
    "# 2nd function is the naive bayes predictor\n",
    "import math\n",
    "from creme import compose\n",
    "from creme import feature_extraction\n",
    "from creme import naive_bayes\n",
    "import creme\n",
    "model = compose.Pipeline(\n",
    "    ('tokenize', feature_extraction.TFIDF(lowercase=False)),\n",
    "    ('nb', naive_bayes.MultinomialNB(alpha=1))\n",
    ")"
   ]
  },
  {
   "cell_type": "code",
   "execution_count": 12,
   "id": "adapted-minimum",
   "metadata": {},
   "outputs": [],
   "source": [
    "from creme import metrics\n",
    "metric=metrics.Accuracy()\n",
    "# Training the model row by row\n",
    "for label,sentence in messages_train:\n",
    "    model = model.fit_one(sentence, label)\n",
    "    y_pred = model.predict_one(sentence)\n",
    "    metric = metric.update(label, y_pred)  "
   ]
  },
  {
   "cell_type": "code",
   "execution_count": 13,
   "id": "massive-portland",
   "metadata": {},
   "outputs": [
    {
     "data": {
      "text/plain": [
       "Accuracy: 72.32%"
      ]
     },
     "execution_count": 13,
     "metadata": {},
     "output_type": "execute_result"
    }
   ],
   "source": [
    "### Training Data Accuracy\n",
    "metric"
   ]
  },
  {
   "cell_type": "code",
   "execution_count": 14,
   "id": "mediterranean-header",
   "metadata": {},
   "outputs": [],
   "source": [
    "### test Data Accuracy\n",
    "test_metric=metrics.Accuracy()\n",
    "for label,sentence in messages_test:\n",
    "    y_pred = model.predict_one(sentence)\n",
    "    test_metric = metric.update(label, y_pred)"
   ]
  },
  {
   "cell_type": "code",
   "execution_count": 15,
   "id": "consistent-amount",
   "metadata": {},
   "outputs": [
    {
     "data": {
      "text/plain": [
       "Accuracy: 71.34%"
      ]
     },
     "execution_count": 15,
     "metadata": {},
     "output_type": "execute_result"
    }
   ],
   "source": [
    "### test Metric\n",
    "test_metric"
   ]
  },
  {
   "cell_type": "code",
   "execution_count": 16,
   "id": "usual-reunion",
   "metadata": {},
   "outputs": [],
   "source": [
    "model = model.fit_one('faulty sound', 'Negative')"
   ]
  },
  {
   "cell_type": "code",
   "execution_count": 29,
   "id": "laden-playing",
   "metadata": {},
   "outputs": [],
   "source": [
    "y_pred = model.predict_one('Very good quality awesome great sound')"
   ]
  },
  {
   "cell_type": "code",
   "execution_count": 30,
   "id": "reserved-reunion",
   "metadata": {},
   "outputs": [
    {
     "data": {
      "text/plain": [
       "'Negative'"
      ]
     },
     "execution_count": 30,
     "metadata": {},
     "output_type": "execute_result"
    }
   ],
   "source": [
    "y_pred"
   ]
  },
  {
   "cell_type": "code",
   "execution_count": 20,
   "id": "stretch-rochester",
   "metadata": {},
   "outputs": [
    {
     "data": {
      "text/html": [
       "<div>\n",
       "<style scoped>\n",
       "    .dataframe tbody tr th:only-of-type {\n",
       "        vertical-align: middle;\n",
       "    }\n",
       "\n",
       "    .dataframe tbody tr th {\n",
       "        vertical-align: top;\n",
       "    }\n",
       "\n",
       "    .dataframe thead th {\n",
       "        text-align: right;\n",
       "    }\n",
       "</style>\n",
       "<table border=\"1\" class=\"dataframe\">\n",
       "  <thead>\n",
       "    <tr style=\"text-align: right;\">\n",
       "      <th></th>\n",
       "      <th>Sentiment_Score</th>\n",
       "      <th>ReviewBody</th>\n",
       "    </tr>\n",
       "  </thead>\n",
       "  <tbody>\n",
       "    <tr>\n",
       "      <th>672</th>\n",
       "      <td>Positive</td>\n",
       "      <td>Very good sound clarity bass The neck band fle...</td>\n",
       "    </tr>\n",
       "    <tr>\n",
       "      <th>2508</th>\n",
       "      <td>Positive</td>\n",
       "      <td>Best</td>\n",
       "    </tr>\n",
       "    <tr>\n",
       "      <th>1995</th>\n",
       "      <td>Positive</td>\n",
       "      <td>Good price paid lack sound clarity</td>\n",
       "    </tr>\n",
       "    <tr>\n",
       "      <th>3474</th>\n",
       "      <td>Positive</td>\n",
       "      <td>As per prize range nice product</td>\n",
       "    </tr>\n",
       "    <tr>\n",
       "      <th>2599</th>\n",
       "      <td>Neutral</td>\n",
       "      <td>Battery last day u listen music non stop last ...</td>\n",
       "    </tr>\n",
       "    <tr>\n",
       "      <th>...</th>\n",
       "      <td>...</td>\n",
       "      <td>...</td>\n",
       "    </tr>\n",
       "    <tr>\n",
       "      <th>1141</th>\n",
       "      <td>Positive</td>\n",
       "      <td>Just started using le month sound quality good...</td>\n",
       "    </tr>\n",
       "    <tr>\n",
       "      <th>4292</th>\n",
       "      <td>Negative</td>\n",
       "      <td>Sound quality bad Having problem listening lef...</td>\n",
       "    </tr>\n",
       "    <tr>\n",
       "      <th>1694</th>\n",
       "      <td>Negative</td>\n",
       "      <td>The audio poor The sound flat low Total waste ...</td>\n",
       "    </tr>\n",
       "    <tr>\n",
       "      <th>2469</th>\n",
       "      <td>Neutral</td>\n",
       "      <td>Sound quality average</td>\n",
       "    </tr>\n",
       "    <tr>\n",
       "      <th>1440</th>\n",
       "      <td>Positive</td>\n",
       "      <td>The quality performance great But worked month...</td>\n",
       "    </tr>\n",
       "  </tbody>\n",
       "</table>\n",
       "<p>3750 rows × 2 columns</p>\n",
       "</div>"
      ],
      "text/plain": [
       "     Sentiment_Score                                         ReviewBody\n",
       "672         Positive  Very good sound clarity bass The neck band fle...\n",
       "2508        Positive                                               Best\n",
       "1995        Positive                 Good price paid lack sound clarity\n",
       "3474        Positive                    As per prize range nice product\n",
       "2599         Neutral  Battery last day u listen music non stop last ...\n",
       "...              ...                                                ...\n",
       "1141        Positive  Just started using le month sound quality good...\n",
       "4292        Negative  Sound quality bad Having problem listening lef...\n",
       "1694        Negative  The audio poor The sound flat low Total waste ...\n",
       "2469         Neutral                              Sound quality average\n",
       "1440        Positive  The quality performance great But worked month...\n",
       "\n",
       "[3750 rows x 2 columns]"
      ]
     },
     "execution_count": 20,
     "metadata": {},
     "output_type": "execute_result"
    }
   ],
   "source": [
    "message_train"
   ]
  },
  {
   "cell_type": "code",
   "execution_count": 21,
   "id": "blind-cooper",
   "metadata": {},
   "outputs": [
    {
     "data": {
      "text/plain": [
       "<module 'nltk.data' from '/home/shwetal/.local/lib/python3.8/site-packages/nltk/data.py'>"
      ]
     },
     "execution_count": 21,
     "metadata": {},
     "output_type": "execute_result"
    }
   ],
   "source": [
    "import inspect\n",
    "import nltk\n",
    "nltk.data"
   ]
  },
  {
   "cell_type": "code",
   "execution_count": 22,
   "id": "natural-nitrogen",
   "metadata": {},
   "outputs": [
    {
     "data": {
      "text/plain": [
       "0.999250842696695"
      ]
     },
     "execution_count": 22,
     "metadata": {},
     "output_type": "execute_result"
    }
   ],
   "source": [
    "from nltk.sentiment.vader import VaderConstants\n",
    "VaderConstants().normalize(100)"
   ]
  },
  {
   "cell_type": "code",
   "execution_count": 23,
   "id": "wired-australian",
   "metadata": {},
   "outputs": [
    {
     "data": {
      "text/plain": [
       "0.999250842696695"
      ]
     },
     "execution_count": 23,
     "metadata": {},
     "output_type": "execute_result"
    }
   ],
   "source": [
    "100/math.sqrt((100*100)+15)"
   ]
  },
  {
   "cell_type": "code",
   "execution_count": 24,
   "id": "interesting-assessment",
   "metadata": {},
   "outputs": [],
   "source": [
    "def normalize(score, alpha=15):\n",
    "        \"\"\"\n",
    "        Normalize the score to be between -1 and 1 using an alpha that\n",
    "        approximates the max expected value\n",
    "        \"\"\"\n",
    "        norm_score = score / math.sqrt((score * score) + alpha)\n",
    "        return norm_score"
   ]
  },
  {
   "cell_type": "code",
   "execution_count": 25,
   "id": "consistent-membrane",
   "metadata": {},
   "outputs": [
    {
     "data": {
      "text/plain": [
       "0.8401680504168059"
      ]
     },
     "execution_count": 25,
     "metadata": {},
     "output_type": "execute_result"
    }
   ],
   "source": [
    "normalize(6)"
   ]
  },
  {
   "cell_type": "code",
   "execution_count": null,
   "id": "sweet-trinidad",
   "metadata": {},
   "outputs": [],
   "source": []
  }
 ],
 "metadata": {
  "kernelspec": {
   "display_name": "Python 3",
   "language": "python",
   "name": "python3"
  },
  "language_info": {
   "codemirror_mode": {
    "name": "ipython",
    "version": 3
   },
   "file_extension": ".py",
   "mimetype": "text/x-python",
   "name": "python",
   "nbconvert_exporter": "python",
   "pygments_lexer": "ipython3",
   "version": "3.8.10"
  }
 },
 "nbformat": 4,
 "nbformat_minor": 5
}
